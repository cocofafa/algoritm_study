{
  "nbformat": 4,
  "nbformat_minor": 0,
  "metadata": {
    "colab": {
      "name": "로또번호 만들기 ! 당첨가자",
      "provenance": [],
      "authorship_tag": "ABX9TyNXvsKli97vHGZucIZqQg0W",
      "include_colab_link": true
    },
    "kernelspec": {
      "name": "python3",
      "display_name": "Python 3"
    },
    "language_info": {
      "name": "python"
    }
  },
  "cells": [
    {
      "cell_type": "markdown",
      "metadata": {
        "id": "view-in-github",
        "colab_type": "text"
      },
      "source": [
        "<a href=\"https://colab.research.google.com/github/cocofafa/algoritm_study/blob/main/%EB%A1%9C%EB%98%90%EB%B2%88%ED%98%B8_%EB%A7%8C%EB%93%A4%EA%B8%B0_!_%EB%8B%B9%EC%B2%A8%EA%B0%80%EC%9E%90.ipynb\" target=\"_parent\"><img src=\"https://colab.research.google.com/assets/colab-badge.svg\" alt=\"Open In Colab\"/></a>"
      ]
    },
    {
      "cell_type": "code",
      "metadata": {
        "colab": {
          "base_uri": "https://localhost:8080/"
        },
        "id": "5X4Ghr4I_nNL",
        "outputId": "041fe08f-8d34-4c09-97d4-6e7f1d1483f2"
      },
      "source": [
        "import random\n",
        "\n",
        "lotto = random.sample( range(1,46),6 )         #범위, 뽑을 숫자의 수 \n",
        "\n",
        "print(lotto)\n"
      ],
      "execution_count": 6,
      "outputs": [
        {
          "output_type": "stream",
          "text": [
            "[30, 35, 33, 13, 14, 5]\n"
          ],
          "name": "stdout"
        }
      ]
    },
    {
      "cell_type": "code",
      "metadata": {
        "colab": {
          "base_uri": "https://localhost:8080/"
        },
        "id": "mgplR-7IFxN1",
        "outputId": "b301368c-66b4-43d6-ae8f-41150a8fb0cd"
      },
      "source": [
        "lotto.sort()           \n",
        "print(lotto)"
      ],
      "execution_count": 7,
      "outputs": [
        {
          "output_type": "stream",
          "text": [
            "[5, 13, 14, 30, 33, 35]\n"
          ],
          "name": "stdout"
        }
      ]
    }
  ]
}