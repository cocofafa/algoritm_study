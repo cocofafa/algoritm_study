{
  "nbformat": 4,
  "nbformat_minor": 0,
  "metadata": {
    "colab": {
      "name": "로또번호 만들기 ! 당첨가자",
      "provenance": [],
      "authorship_tag": "ABX9TyPaNbj1ak7N/DzxQxtfgQop",
      "include_colab_link": true
    },
    "kernelspec": {
      "name": "python3",
      "display_name": "Python 3"
    },
    "language_info": {
      "name": "python"
    }
  },
  "cells": [
    {
      "cell_type": "markdown",
      "metadata": {
        "id": "view-in-github",
        "colab_type": "text"
      },
      "source": [
        "<a href=\"https://colab.research.google.com/github/cocofafa/algoritm_study/blob/main/%EB%A1%9C%EB%98%90%EB%B2%88%ED%98%B8_%EB%A7%8C%EB%93%A4%EA%B8%B0_!_%EB%8B%B9%EC%B2%A8%EA%B0%80%EC%9E%90.ipynb\" target=\"_parent\"><img src=\"https://colab.research.google.com/assets/colab-badge.svg\" alt=\"Open In Colab\"/></a>"
      ]
    },
    {
      "cell_type": "code",
      "metadata": {
        "colab": {
          "base_uri": "https://localhost:8080/"
        },
        "id": "5X4Ghr4I_nNL",
        "outputId": "2c809eba-acfb-4b29-f27e-eb6896514484"
      },
      "source": [
        "import random\n",
        "\n",
        "lotto = random.sample( range(1,46),6 )         #범위, 뽑을 숫자의 수 \n",
        "\n",
        "print(lotto)\n"
      ],
      "execution_count": 9,
      "outputs": [
        {
          "output_type": "stream",
          "text": [
            "[8, 15, 19, 23, 2, 6]\n"
          ],
          "name": "stdout"
        }
      ]
    },
    {
      "cell_type": "code",
      "metadata": {
        "colab": {
          "base_uri": "https://localhost:8080/"
        },
        "id": "mgplR-7IFxN1",
        "outputId": "08fea8af-6682-41b0-c1f5-85d9966af877"
      },
      "source": [
        "lotto.sort()           \n",
        "print(lotto)"
      ],
      "execution_count": 10,
      "outputs": [
        {
          "output_type": "stream",
          "text": [
            "[2, 6, 8, 15, 19, 23]\n"
          ],
          "name": "stdout"
        }
      ]
    },
    {
      "cell_type": "code",
      "metadata": {
        "id": "j6WO28LfGK9P"
      },
      "source": [
        "#import random\n",
        "\n",
        "#lotto = random.sample( range(1,46),6 )  \n",
        "\n",
        "#lotto.sort()  \n",
        " \n",
        "#print(lotto)"
      ],
      "execution_count": null,
      "outputs": []
    }
  ]
}